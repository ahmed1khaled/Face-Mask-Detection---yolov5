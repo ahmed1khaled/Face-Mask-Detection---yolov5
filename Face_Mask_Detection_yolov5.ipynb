{
  "nbformat": 4,
  "nbformat_minor": 0,
  "metadata": {
    "colab": {
      "name": "Face Mask Detection - yolov5.ipynb",
      "private_outputs": true,
      "provenance": []
    },
    "kernelspec": {
      "name": "python3",
      "display_name": "Python 3"
    },
    "language_info": {
      "name": "python"
    },
    "accelerator": "GPU"
  },
  "cells": [
    {
      "cell_type": "code",
      "execution_count": null,
      "metadata": {
        "id": "u0HdMTDizsmn"
      },
      "outputs": [],
      "source": [
        "from google.colab import drive\n",
        "drive.mount('/content/drive', force_remount=True) "
      ]
    },
    {
      "cell_type": "code",
      "source": [
        "ls '/content/drive/MyDrive/object_yolo_v5'"
      ],
      "metadata": {
        "id": "cdKBnzSZDkpr"
      },
      "execution_count": null,
      "outputs": []
    },
    {
      "cell_type": "code",
      "source": [
        "%cd /content/drive/MyDrive/object_yolo_v5/"
      ],
      "metadata": {
        "id": "9FvVo96CDti4"
      },
      "execution_count": null,
      "outputs": []
    },
    {
      "cell_type": "code",
      "source": [
        "! git clone 'https://github.com/ultralytics/yolov5' '/content/drive/MyDrive/object_yolo_v5/yolov5'\n"
      ],
      "metadata": {
        "id": "qyRN-QEuDzk1"
      },
      "execution_count": null,
      "outputs": []
    },
    {
      "cell_type": "code",
      "source": [
        "%cd /content/drive/MyDrive/object_yolo_v5/yolov5\n"
      ],
      "metadata": {
        "id": "lC3Kg9jAD_LH"
      },
      "execution_count": null,
      "outputs": []
    },
    {
      "cell_type": "code",
      "source": [
        "!pip install -U  -r requirements.txt"
      ],
      "metadata": {
        "id": "Sr0H_s9_EC8e"
      },
      "execution_count": null,
      "outputs": []
    },
    {
      "cell_type": "code",
      "source": [
        "!python train.py --img 640 --batch 32 --epochs 50 --cfg yolov5m.yaml --data coco128.yaml --weights \"\" --nosave --cache \n"
      ],
      "metadata": {
        "id": "7mRO5_KhEGn9"
      },
      "execution_count": null,
      "outputs": []
    },
    {
      "cell_type": "code",
      "source": [
        " %load_ext tensorboard\n",
        "%tensorboard --logdir runs/train"
      ],
      "metadata": {
        "id": "PNcY4lc1NEcW"
      },
      "execution_count": null,
      "outputs": []
    },
    {
      "cell_type": "code",
      "source": [
        "!python train.py --img 640 --batch 32 --epochs 100 --cfg yolov5m.yaml --data coco128.yaml --weights \"\" --nosave --cache \n"
      ],
      "metadata": {
        "id": "pVzxgIHMCIkz"
      },
      "execution_count": null,
      "outputs": []
    },
    {
      "cell_type": "code",
      "source": [
        "!python detect.py --weights /content/drive/MyDrive/object_yolo_v5/yolov5/runs/train/exp30/weights/last.pt --img 640 --conf 0.25 --source /content/drive/MyDrive/object_yolo_v5/face_mask_detection_yolov5/test/ --save-conf"
      ],
      "metadata": {
        "id": "latz-mnjQRAx"
      },
      "execution_count": null,
      "outputs": []
    },
    {
      "cell_type": "code",
      "source": [
        "import glob\n",
        "from IPython.display import Image ,display # for displaying images\n",
        "for imagename in glob.glob('/content/drive/MyDrive/object_yolo_v5/yolov5/runs/detect/exp5/*.jpg'):\n",
        "    display(Image(filename=imagename))\n",
        "    print('.................................................')\n",
        "    print('.................................................')\n",
        "    print('.................................................')"
      ],
      "metadata": {
        "id": "_78GqFWpRJ7v"
      },
      "execution_count": null,
      "outputs": []
    },
    {
      "cell_type": "code",
      "source": [
        "!python detect.py --weights /content/drive/MyDrive/object_yolo_v5/yolov5/runs/train/exp30/weights/last.pt --img 640 --conf 0.25 --source /content/drive/MyDrive/object_yolo_v5/face_mask_detection_yolov5/Screenshot_20220424-113037_Facebook.jpg --save-conf"
      ],
      "metadata": {
        "id": "Kw7pk65CRbV6"
      },
      "execution_count": null,
      "outputs": []
    },
    {
      "cell_type": "code",
      "source": [
        "import glob\n",
        "from IPython.display import Image ,display # for displaying images\n",
        "for imagename in glob.glob('/content/drive/MyDrive/object_yolo_v5/yolov5/runs/detect/exp6/*.jpg'):\n",
        "    display(Image(filename=imagename))\n",
        "    print('.................................................')\n",
        "    print('.................................................')\n",
        "    print('.................................................')"
      ],
      "metadata": {
        "id": "bMfdsDa4SSUs"
      },
      "execution_count": null,
      "outputs": []
    },
    {
      "cell_type": "code",
      "source": [
        "!python detect.py --weights /content/drive/MyDrive/object_yolo_v5/yolov5/runs/train/exp30/weights/last.pt --img 640 --conf 0.25 --source /content/drive/MyDrive/object_yolo_v5/face_mask_detection_yolov5/new_116.jpg --save-conf"
      ],
      "metadata": {
        "id": "XydxOmklSW8x"
      },
      "execution_count": null,
      "outputs": []
    },
    {
      "cell_type": "code",
      "source": [
        "import glob\n",
        "from IPython.display import Image ,display # for displaying images\n",
        "for imagename in glob.glob('/content/drive/MyDrive/object_yolo_v5/yolov5/runs/detect/exp10/*.jpg'):\n",
        "    display(Image(filename=imagename))\n",
        "    print('.................................................')\n",
        "    print('.................................................')\n",
        "    print('.................................................')"
      ],
      "metadata": {
        "id": "AjZasFSDTIiG"
      },
      "execution_count": null,
      "outputs": []
    },
    {
      "cell_type": "code",
      "source": [
        ""
      ],
      "metadata": {
        "id": "9aqbBoGMTNXZ"
      },
      "execution_count": null,
      "outputs": []
    }
  ]
}